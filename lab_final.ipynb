{
 "cells": [
  {
   "cell_type": "code",
   "execution_count": null,
   "metadata": {
    "collapsed": true
   },
   "outputs": [],
   "source": [
    "import argparse\n",
    "import sys\n",
    "import os\n",
    "import shutil\n",
    "from gectoolkit.quick_start import run_toolkit\n",
    "\n",
    "sys.path.insert(0, os.path.abspath(os.path.join(os.getcwd(), \".\")))"
   ]
  },
  {
   "cell_type": "code",
   "execution_count": null,
   "outputs": [],
   "source": [
    "def mycopyfile(srcfile, dstpath):\n",
    "    if not os.path.isfile(srcfile):\n",
    "        print(\"%s not exist!\" % (srcfile))\n",
    "    else:\n",
    "        fpath, fname = os.path.split(srcfile)\n",
    "        print(fpath)\n",
    "        print(fname)\n",
    "        if not os.path.exists(dstpath):\n",
    "            os.makedirs(dstpath)\n",
    "        shutil.copy(srcfile, dstpath + fname)\n",
    "        print(\"copy %s -> %s\" % (srcfile, dstpath + fname))\n",
    "\n",
    "def zip_fun():\n",
    "    path=os.getcwd()\n",
    "    newpath=path+\"/output/\"\n",
    "    os.chdir(newpath)\n",
    "    os.system('zip prediction.zip predicts.json')\n",
    "    os.chdir(path)"
   ],
   "metadata": {
    "collapsed": false
   }
  },
  {
   "cell_type": "code",
   "execution_count": null,
   "outputs": [],
   "source": [
    "if __name__ == '__main__':\n",
    "    parser = argparse.ArgumentParser()\n",
    "    parser.add_argument('--model', '-m', type=str, default='RNN', help='name of models')\n",
    "    parser.add_argument('--dataset', '-d', type=str, default='csc', help='name of datasets')\n",
    "    parser.add_argument('--language', '-l', type=str, default='Chinese', help='language of dataset')\n",
    "\n",
    "    args, _ = parser.parse_known_args()\n",
    "    config_dict = {}\n",
    "\n",
    "    run_toolkit(args.model, args.dataset, args.language, config_dict)\n",
    "\n",
    "    src_dir = 'checkpoint/RNN-csc/predicts.json'\n",
    "    dst_dir = './output/'\n",
    "    mycopyfile(src_dir, dst_dir)\n",
    "    zip_fun()"
   ],
   "metadata": {
    "collapsed": false
   }
  },
  {
   "cell_type": "code",
   "execution_count": null,
   "outputs": [],
   "source": [],
   "metadata": {
    "collapsed": false
   }
  }
 ],
 "metadata": {
  "kernelspec": {
   "name": "pytorch",
   "language": "python",
   "display_name": "pytorch"
  },
  "language_info": {
   "codemirror_mode": {
    "name": "ipython",
    "version": 2
   },
   "file_extension": ".py",
   "mimetype": "text/x-python",
   "name": "python",
   "nbconvert_exporter": "python",
   "pygments_lexer": "ipython2",
   "version": "2.7.6"
  }
 },
 "nbformat": 4,
 "nbformat_minor": 0
}
